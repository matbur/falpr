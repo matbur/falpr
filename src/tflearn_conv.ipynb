{
 "cells": [
  {
   "cell_type": "code",
   "execution_count": 1,
   "metadata": {},
   "outputs": [
    {
     "name": "stdout",
     "output_type": "stream",
     "text": [
      "Scipy not supported!\n"
     ]
    }
   ],
   "source": [
    "import os\n",
    "import pickle\n",
    "\n",
    "from tflearn import DNN\n",
    "from tflearn.datasets import mnist\n",
    "from tflearn.layers.conv import conv_2d\n",
    "from tflearn.layers.core import fully_connected, input_data\n",
    "from tflearn.layers.estimator import regression"
   ]
  },
  {
   "cell_type": "code",
   "execution_count": 2,
   "metadata": {
    "collapsed": true
   },
   "outputs": [],
   "source": [
    "LOG_DIR = '/tmp/cypsio/'\n",
    "DATA_DIR = os.path.join(LOG_DIR, 'mnist')\n",
    "TENSORBOARD_DIR = os.path.join(LOG_DIR, 'tensorboard')\n",
    "CHECKPOINT_PATH = os.path.join(LOG_DIR, 'checkpoint')\n",
    "MODEL_FILE = os.path.join(LOG_DIR, 'model_weights')"
   ]
  },
  {
   "cell_type": "code",
   "execution_count": 3,
   "metadata": {},
   "outputs": [
    {
     "name": "stdout",
     "output_type": "stream",
     "text": [
      "Extracting /tmp/cypsio/mnist/train-images-idx3-ubyte.gz\n",
      "Extracting /tmp/cypsio/mnist/train-labels-idx1-ubyte.gz\n",
      "Extracting /tmp/cypsio/mnist/t10k-images-idx3-ubyte.gz\n",
      "Extracting /tmp/cypsio/mnist/t10k-labels-idx1-ubyte.gz\n"
     ]
    },
    {
     "data": {
      "text/plain": [
       "(55000, 28, 28, 1)"
      ]
     },
     "execution_count": 3,
     "metadata": {},
     "output_type": "execute_result"
    }
   ],
   "source": [
    "train_x, train_y, test_x, test_y = mnist.load_data(data_dir=DATA_DIR, one_hot=True)\n",
    "\n",
    "train_x = train_x.reshape([-1, 28, 28, 1])\n",
    "test_x = test_x.reshape([-1, 28, 28, 1])\n",
    "\n",
    "train_x.shape"
   ]
  },
  {
   "cell_type": "code",
   "execution_count": 4,
   "metadata": {
    "collapsed": true
   },
   "outputs": [],
   "source": [
    "net_input = input_data(shape=[None, 28, 28, 1])\n",
    "conv1 = conv_2d(net_input, nb_filter=4, filter_size=5, strides=[1, 1, 1, 1], activation='relu')\n",
    "conv2 = conv_2d(conv1, nb_filter=8, filter_size=5, strides=[1, 2, 2, 1], activation='relu')\n",
    "conv3 = conv_2d(conv2, nb_filter=12, filter_size=4, strides=[1, 1, 1, 1], activation='relu')\n",
    "fc1 = fully_connected(conv3, n_units=200, activation='relu')\n",
    "fc2 = fully_connected(fc1, n_units=10, activation='softmax')\n",
    "net = regression(fc2)"
   ]
  },
  {
   "cell_type": "code",
   "execution_count": 5,
   "metadata": {},
   "outputs": [
    {
     "name": "stdout",
     "output_type": "stream",
     "text": [
      "Training Step: 859  | total loss: \u001b[1m\u001b[32m0.11748\u001b[0m\u001b[0m | time: 78.717s\n",
      "| Adam | epoch: 001 | loss: 0.11748 - acc: 0.9750 -- iter: 54976/55000\n",
      "Training Step: 860  | total loss: \u001b[1m\u001b[32m0.11651\u001b[0m\u001b[0m | time: 81.061s\n",
      "| Adam | epoch: 001 | loss: 0.11651 - acc: 0.9760 | val_loss: 0.06088 - val_acc: 0.9808 -- iter: 55000/55000\n",
      "--\n",
      "INFO:tensorflow:/tmp/cypsio/checkpoint9808 is not in all_model_checkpoint_paths. Manually adding it.\n",
      "INFO:tensorflow:/tmp/cypsio/model_weights is not in all_model_checkpoint_paths. Manually adding it.\n"
     ]
    }
   ],
   "source": [
    "model = DNN(network=net,\n",
    "            tensorboard_dir=TENSORBOARD_DIR,\n",
    "            tensorboard_verbose=3,\n",
    "            best_checkpoint_path=CHECKPOINT_PATH,\n",
    "           )\n",
    "model.fit(X_inputs=train_x,\n",
    "          Y_targets=train_y,\n",
    "          validation_set=(test_x, test_y),\n",
    "          n_epoch=1,\n",
    "          show_metric=True,\n",
    "          run_id='CNN'\n",
    "         )\n",
    "model.save(MODEL_FILE)"
   ]
  }
 ],
 "metadata": {
  "kernelspec": {
   "display_name": "Python 3",
   "language": "python",
   "name": "python3"
  },
  "language_info": {
   "codemirror_mode": {
    "name": "ipython",
    "version": 3
   },
   "file_extension": ".py",
   "mimetype": "text/x-python",
   "name": "python",
   "nbconvert_exporter": "python",
   "pygments_lexer": "ipython3",
   "version": "3.6.1"
  }
 },
 "nbformat": 4,
 "nbformat_minor": 1
}
